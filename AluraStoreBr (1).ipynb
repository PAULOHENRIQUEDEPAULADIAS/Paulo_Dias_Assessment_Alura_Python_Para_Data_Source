{
  "nbformat": 4,
  "nbformat_minor": 0,
  "metadata": {
    "colab": {
      "provenance": []
    },
    "kernelspec": {
      "name": "python3",
      "display_name": "Python 3"
    },
    "language_info": {
      "name": "python"
    }
  },
  "cells": [
    {
      "cell_type": "markdown",
      "source": [
        "### Importação dos dados\n",
        "\n"
      ],
      "metadata": {
        "id": "RhEdWd9YUR6H"
      }
    },
    {
      "cell_type": "code",
      "execution_count": 1,
      "metadata": {
        "colab": {
          "base_uri": "https://localhost:8080/",
          "height": 258
        },
        "id": "T3EvaeQ_INIL",
        "outputId": "dff90df8-7a64-453d-bed8-421f42aaabf1"
      },
      "outputs": [
        {
          "output_type": "execute_result",
          "data": {
            "text/plain": [
              "                 Produto Categoria do Produto    Preço      Frete  \\\n",
              "0     Assistente virtual          eletronicos   219.08   9.249790   \n",
              "1         Mesa de jantar               moveis   256.35  11.234305   \n",
              "2      Jogo de tabuleiro           brinquedos   279.51  21.262681   \n",
              "3            Micro-ondas     eletrodomesticos  1009.99  54.667344   \n",
              "4  Cadeira de escritório               moveis   446.99  26.964689   \n",
              "\n",
              "  Data da Compra        Vendedor Local da compra  Avaliação da compra  \\\n",
              "0     16/01/2021     Pedro Gomes              SP                    4   \n",
              "1     18/05/2022  Beatriz Moraes              RJ                    1   \n",
              "2     15/03/2021      João Souza              DF                    1   \n",
              "3     03/05/2022      João Souza              RS                    4   \n",
              "4     07/11/2020   Larissa Alves              MG                    5   \n",
              "\n",
              "  Tipo de pagamento  Quantidade de parcelas    lat    lon  \n",
              "0    cartao_credito                       8 -22.19 -48.79  \n",
              "1    cartao_credito                       4 -22.25 -42.66  \n",
              "2    cartao_credito                       1 -15.83 -47.86  \n",
              "3            boleto                       1 -30.17 -53.50  \n",
              "4            boleto                       1 -18.10 -44.38  "
            ],
            "text/html": [
              "\n",
              "  <div id=\"df-3e35fab7-3a0c-4b6c-8af7-37d91c7234cf\" class=\"colab-df-container\">\n",
              "    <div>\n",
              "<style scoped>\n",
              "    .dataframe tbody tr th:only-of-type {\n",
              "        vertical-align: middle;\n",
              "    }\n",
              "\n",
              "    .dataframe tbody tr th {\n",
              "        vertical-align: top;\n",
              "    }\n",
              "\n",
              "    .dataframe thead th {\n",
              "        text-align: right;\n",
              "    }\n",
              "</style>\n",
              "<table border=\"1\" class=\"dataframe\">\n",
              "  <thead>\n",
              "    <tr style=\"text-align: right;\">\n",
              "      <th></th>\n",
              "      <th>Produto</th>\n",
              "      <th>Categoria do Produto</th>\n",
              "      <th>Preço</th>\n",
              "      <th>Frete</th>\n",
              "      <th>Data da Compra</th>\n",
              "      <th>Vendedor</th>\n",
              "      <th>Local da compra</th>\n",
              "      <th>Avaliação da compra</th>\n",
              "      <th>Tipo de pagamento</th>\n",
              "      <th>Quantidade de parcelas</th>\n",
              "      <th>lat</th>\n",
              "      <th>lon</th>\n",
              "    </tr>\n",
              "  </thead>\n",
              "  <tbody>\n",
              "    <tr>\n",
              "      <th>0</th>\n",
              "      <td>Assistente virtual</td>\n",
              "      <td>eletronicos</td>\n",
              "      <td>219.08</td>\n",
              "      <td>9.249790</td>\n",
              "      <td>16/01/2021</td>\n",
              "      <td>Pedro Gomes</td>\n",
              "      <td>SP</td>\n",
              "      <td>4</td>\n",
              "      <td>cartao_credito</td>\n",
              "      <td>8</td>\n",
              "      <td>-22.19</td>\n",
              "      <td>-48.79</td>\n",
              "    </tr>\n",
              "    <tr>\n",
              "      <th>1</th>\n",
              "      <td>Mesa de jantar</td>\n",
              "      <td>moveis</td>\n",
              "      <td>256.35</td>\n",
              "      <td>11.234305</td>\n",
              "      <td>18/05/2022</td>\n",
              "      <td>Beatriz Moraes</td>\n",
              "      <td>RJ</td>\n",
              "      <td>1</td>\n",
              "      <td>cartao_credito</td>\n",
              "      <td>4</td>\n",
              "      <td>-22.25</td>\n",
              "      <td>-42.66</td>\n",
              "    </tr>\n",
              "    <tr>\n",
              "      <th>2</th>\n",
              "      <td>Jogo de tabuleiro</td>\n",
              "      <td>brinquedos</td>\n",
              "      <td>279.51</td>\n",
              "      <td>21.262681</td>\n",
              "      <td>15/03/2021</td>\n",
              "      <td>João Souza</td>\n",
              "      <td>DF</td>\n",
              "      <td>1</td>\n",
              "      <td>cartao_credito</td>\n",
              "      <td>1</td>\n",
              "      <td>-15.83</td>\n",
              "      <td>-47.86</td>\n",
              "    </tr>\n",
              "    <tr>\n",
              "      <th>3</th>\n",
              "      <td>Micro-ondas</td>\n",
              "      <td>eletrodomesticos</td>\n",
              "      <td>1009.99</td>\n",
              "      <td>54.667344</td>\n",
              "      <td>03/05/2022</td>\n",
              "      <td>João Souza</td>\n",
              "      <td>RS</td>\n",
              "      <td>4</td>\n",
              "      <td>boleto</td>\n",
              "      <td>1</td>\n",
              "      <td>-30.17</td>\n",
              "      <td>-53.50</td>\n",
              "    </tr>\n",
              "    <tr>\n",
              "      <th>4</th>\n",
              "      <td>Cadeira de escritório</td>\n",
              "      <td>moveis</td>\n",
              "      <td>446.99</td>\n",
              "      <td>26.964689</td>\n",
              "      <td>07/11/2020</td>\n",
              "      <td>Larissa Alves</td>\n",
              "      <td>MG</td>\n",
              "      <td>5</td>\n",
              "      <td>boleto</td>\n",
              "      <td>1</td>\n",
              "      <td>-18.10</td>\n",
              "      <td>-44.38</td>\n",
              "    </tr>\n",
              "  </tbody>\n",
              "</table>\n",
              "</div>\n",
              "    <div class=\"colab-df-buttons\">\n",
              "\n",
              "  <div class=\"colab-df-container\">\n",
              "    <button class=\"colab-df-convert\" onclick=\"convertToInteractive('df-3e35fab7-3a0c-4b6c-8af7-37d91c7234cf')\"\n",
              "            title=\"Convert this dataframe to an interactive table.\"\n",
              "            style=\"display:none;\">\n",
              "\n",
              "  <svg xmlns=\"http://www.w3.org/2000/svg\" height=\"24px\" viewBox=\"0 -960 960 960\">\n",
              "    <path d=\"M120-120v-720h720v720H120Zm60-500h600v-160H180v160Zm220 220h160v-160H400v160Zm0 220h160v-160H400v160ZM180-400h160v-160H180v160Zm440 0h160v-160H620v160ZM180-180h160v-160H180v160Zm440 0h160v-160H620v160Z\"/>\n",
              "  </svg>\n",
              "    </button>\n",
              "\n",
              "  <style>\n",
              "    .colab-df-container {\n",
              "      display:flex;\n",
              "      gap: 12px;\n",
              "    }\n",
              "\n",
              "    .colab-df-convert {\n",
              "      background-color: #E8F0FE;\n",
              "      border: none;\n",
              "      border-radius: 50%;\n",
              "      cursor: pointer;\n",
              "      display: none;\n",
              "      fill: #1967D2;\n",
              "      height: 32px;\n",
              "      padding: 0 0 0 0;\n",
              "      width: 32px;\n",
              "    }\n",
              "\n",
              "    .colab-df-convert:hover {\n",
              "      background-color: #E2EBFA;\n",
              "      box-shadow: 0px 1px 2px rgba(60, 64, 67, 0.3), 0px 1px 3px 1px rgba(60, 64, 67, 0.15);\n",
              "      fill: #174EA6;\n",
              "    }\n",
              "\n",
              "    .colab-df-buttons div {\n",
              "      margin-bottom: 4px;\n",
              "    }\n",
              "\n",
              "    [theme=dark] .colab-df-convert {\n",
              "      background-color: #3B4455;\n",
              "      fill: #D2E3FC;\n",
              "    }\n",
              "\n",
              "    [theme=dark] .colab-df-convert:hover {\n",
              "      background-color: #434B5C;\n",
              "      box-shadow: 0px 1px 3px 1px rgba(0, 0, 0, 0.15);\n",
              "      filter: drop-shadow(0px 1px 2px rgba(0, 0, 0, 0.3));\n",
              "      fill: #FFFFFF;\n",
              "    }\n",
              "  </style>\n",
              "\n",
              "    <script>\n",
              "      const buttonEl =\n",
              "        document.querySelector('#df-3e35fab7-3a0c-4b6c-8af7-37d91c7234cf button.colab-df-convert');\n",
              "      buttonEl.style.display =\n",
              "        google.colab.kernel.accessAllowed ? 'block' : 'none';\n",
              "\n",
              "      async function convertToInteractive(key) {\n",
              "        const element = document.querySelector('#df-3e35fab7-3a0c-4b6c-8af7-37d91c7234cf');\n",
              "        const dataTable =\n",
              "          await google.colab.kernel.invokeFunction('convertToInteractive',\n",
              "                                                    [key], {});\n",
              "        if (!dataTable) return;\n",
              "\n",
              "        const docLinkHtml = 'Like what you see? Visit the ' +\n",
              "          '<a target=\"_blank\" href=https://colab.research.google.com/notebooks/data_table.ipynb>data table notebook</a>'\n",
              "          + ' to learn more about interactive tables.';\n",
              "        element.innerHTML = '';\n",
              "        dataTable['output_type'] = 'display_data';\n",
              "        await google.colab.output.renderOutput(dataTable, element);\n",
              "        const docLink = document.createElement('div');\n",
              "        docLink.innerHTML = docLinkHtml;\n",
              "        element.appendChild(docLink);\n",
              "      }\n",
              "    </script>\n",
              "  </div>\n",
              "\n",
              "\n",
              "    <div id=\"df-59af3b90-69a5-46b8-89ef-38826b658752\">\n",
              "      <button class=\"colab-df-quickchart\" onclick=\"quickchart('df-59af3b90-69a5-46b8-89ef-38826b658752')\"\n",
              "                title=\"Suggest charts\"\n",
              "                style=\"display:none;\">\n",
              "\n",
              "<svg xmlns=\"http://www.w3.org/2000/svg\" height=\"24px\"viewBox=\"0 0 24 24\"\n",
              "     width=\"24px\">\n",
              "    <g>\n",
              "        <path d=\"M19 3H5c-1.1 0-2 .9-2 2v14c0 1.1.9 2 2 2h14c1.1 0 2-.9 2-2V5c0-1.1-.9-2-2-2zM9 17H7v-7h2v7zm4 0h-2V7h2v10zm4 0h-2v-4h2v4z\"/>\n",
              "    </g>\n",
              "</svg>\n",
              "      </button>\n",
              "\n",
              "<style>\n",
              "  .colab-df-quickchart {\n",
              "      --bg-color: #E8F0FE;\n",
              "      --fill-color: #1967D2;\n",
              "      --hover-bg-color: #E2EBFA;\n",
              "      --hover-fill-color: #174EA6;\n",
              "      --disabled-fill-color: #AAA;\n",
              "      --disabled-bg-color: #DDD;\n",
              "  }\n",
              "\n",
              "  [theme=dark] .colab-df-quickchart {\n",
              "      --bg-color: #3B4455;\n",
              "      --fill-color: #D2E3FC;\n",
              "      --hover-bg-color: #434B5C;\n",
              "      --hover-fill-color: #FFFFFF;\n",
              "      --disabled-bg-color: #3B4455;\n",
              "      --disabled-fill-color: #666;\n",
              "  }\n",
              "\n",
              "  .colab-df-quickchart {\n",
              "    background-color: var(--bg-color);\n",
              "    border: none;\n",
              "    border-radius: 50%;\n",
              "    cursor: pointer;\n",
              "    display: none;\n",
              "    fill: var(--fill-color);\n",
              "    height: 32px;\n",
              "    padding: 0;\n",
              "    width: 32px;\n",
              "  }\n",
              "\n",
              "  .colab-df-quickchart:hover {\n",
              "    background-color: var(--hover-bg-color);\n",
              "    box-shadow: 0 1px 2px rgba(60, 64, 67, 0.3), 0 1px 3px 1px rgba(60, 64, 67, 0.15);\n",
              "    fill: var(--button-hover-fill-color);\n",
              "  }\n",
              "\n",
              "  .colab-df-quickchart-complete:disabled,\n",
              "  .colab-df-quickchart-complete:disabled:hover {\n",
              "    background-color: var(--disabled-bg-color);\n",
              "    fill: var(--disabled-fill-color);\n",
              "    box-shadow: none;\n",
              "  }\n",
              "\n",
              "  .colab-df-spinner {\n",
              "    border: 2px solid var(--fill-color);\n",
              "    border-color: transparent;\n",
              "    border-bottom-color: var(--fill-color);\n",
              "    animation:\n",
              "      spin 1s steps(1) infinite;\n",
              "  }\n",
              "\n",
              "  @keyframes spin {\n",
              "    0% {\n",
              "      border-color: transparent;\n",
              "      border-bottom-color: var(--fill-color);\n",
              "      border-left-color: var(--fill-color);\n",
              "    }\n",
              "    20% {\n",
              "      border-color: transparent;\n",
              "      border-left-color: var(--fill-color);\n",
              "      border-top-color: var(--fill-color);\n",
              "    }\n",
              "    30% {\n",
              "      border-color: transparent;\n",
              "      border-left-color: var(--fill-color);\n",
              "      border-top-color: var(--fill-color);\n",
              "      border-right-color: var(--fill-color);\n",
              "    }\n",
              "    40% {\n",
              "      border-color: transparent;\n",
              "      border-right-color: var(--fill-color);\n",
              "      border-top-color: var(--fill-color);\n",
              "    }\n",
              "    60% {\n",
              "      border-color: transparent;\n",
              "      border-right-color: var(--fill-color);\n",
              "    }\n",
              "    80% {\n",
              "      border-color: transparent;\n",
              "      border-right-color: var(--fill-color);\n",
              "      border-bottom-color: var(--fill-color);\n",
              "    }\n",
              "    90% {\n",
              "      border-color: transparent;\n",
              "      border-bottom-color: var(--fill-color);\n",
              "    }\n",
              "  }\n",
              "</style>\n",
              "\n",
              "      <script>\n",
              "        async function quickchart(key) {\n",
              "          const quickchartButtonEl =\n",
              "            document.querySelector('#' + key + ' button');\n",
              "          quickchartButtonEl.disabled = true;  // To prevent multiple clicks.\n",
              "          quickchartButtonEl.classList.add('colab-df-spinner');\n",
              "          try {\n",
              "            const charts = await google.colab.kernel.invokeFunction(\n",
              "                'suggestCharts', [key], {});\n",
              "          } catch (error) {\n",
              "            console.error('Error during call to suggestCharts:', error);\n",
              "          }\n",
              "          quickchartButtonEl.classList.remove('colab-df-spinner');\n",
              "          quickchartButtonEl.classList.add('colab-df-quickchart-complete');\n",
              "        }\n",
              "        (() => {\n",
              "          let quickchartButtonEl =\n",
              "            document.querySelector('#df-59af3b90-69a5-46b8-89ef-38826b658752 button');\n",
              "          quickchartButtonEl.style.display =\n",
              "            google.colab.kernel.accessAllowed ? 'block' : 'none';\n",
              "        })();\n",
              "      </script>\n",
              "    </div>\n",
              "\n",
              "    </div>\n",
              "  </div>\n"
            ],
            "application/vnd.google.colaboratory.intrinsic+json": {
              "type": "dataframe",
              "variable_name": "loja",
              "summary": "{\n  \"name\": \"loja\",\n  \"rows\": 2359,\n  \"fields\": [\n    {\n      \"column\": \"Produto\",\n      \"properties\": {\n        \"dtype\": \"category\",\n        \"num_unique_values\": 51,\n        \"samples\": [\n          \"Viol\\u00e3o\",\n          \"Bola de basquete\",\n          \"Smartwatch\"\n        ],\n        \"semantic_type\": \"\",\n        \"description\": \"\"\n      }\n    },\n    {\n      \"column\": \"Categoria do Produto\",\n      \"properties\": {\n        \"dtype\": \"category\",\n        \"num_unique_values\": 8,\n        \"samples\": [\n          \"moveis\",\n          \"esporte e lazer\",\n          \"eletronicos\"\n        ],\n        \"semantic_type\": \"\",\n        \"description\": \"\"\n      }\n    },\n    {\n      \"column\": \"Pre\\u00e7o\",\n      \"properties\": {\n        \"dtype\": \"number\",\n        \"std\": 819.5827782539145,\n        \"min\": 10.07,\n        \"max\": 3969.38,\n        \"num_unique_values\": 2315,\n        \"samples\": [\n          446.11,\n          107.31,\n          65.86\n        ],\n        \"semantic_type\": \"\",\n        \"description\": \"\"\n      }\n    },\n    {\n      \"column\": \"Frete\",\n      \"properties\": {\n        \"dtype\": \"number\",\n        \"std\": 43.814183327408166,\n        \"min\": 0.0,\n        \"max\": 214.3770604781,\n        \"num_unique_values\": 2149,\n        \"samples\": [\n          83.815279607,\n          16.069664669,\n          14.0344876928\n        ],\n        \"semantic_type\": \"\",\n        \"description\": \"\"\n      }\n    },\n    {\n      \"column\": \"Data da Compra\",\n      \"properties\": {\n        \"dtype\": \"object\",\n        \"num_unique_values\": 1018,\n        \"samples\": [\n          \"15/09/2022\",\n          \"03/06/2020\",\n          \"06/11/2021\"\n        ],\n        \"semantic_type\": \"\",\n        \"description\": \"\"\n      }\n    },\n    {\n      \"column\": \"Vendedor\",\n      \"properties\": {\n        \"dtype\": \"category\",\n        \"num_unique_values\": 14,\n        \"samples\": [\n          \"Juliana Costa\",\n          \"Mariana Ferreira\",\n          \"Pedro Gomes\"\n        ],\n        \"semantic_type\": \"\",\n        \"description\": \"\"\n      }\n    },\n    {\n      \"column\": \"Local da compra\",\n      \"properties\": {\n        \"dtype\": \"category\",\n        \"num_unique_values\": 26,\n        \"samples\": [\n          \"TO\",\n          \"RN\",\n          \"SP\"\n        ],\n        \"semantic_type\": \"\",\n        \"description\": \"\"\n      }\n    },\n    {\n      \"column\": \"Avalia\\u00e7\\u00e3o da compra\",\n      \"properties\": {\n        \"dtype\": \"number\",\n        \"std\": 1,\n        \"min\": 1,\n        \"max\": 5,\n        \"num_unique_values\": 5,\n        \"samples\": [\n          1,\n          2,\n          5\n        ],\n        \"semantic_type\": \"\",\n        \"description\": \"\"\n      }\n    },\n    {\n      \"column\": \"Tipo de pagamento\",\n      \"properties\": {\n        \"dtype\": \"category\",\n        \"num_unique_values\": 4,\n        \"samples\": [\n          \"boleto\",\n          \"cartao_debito\",\n          \"cartao_credito\"\n        ],\n        \"semantic_type\": \"\",\n        \"description\": \"\"\n      }\n    },\n    {\n      \"column\": \"Quantidade de parcelas\",\n      \"properties\": {\n        \"dtype\": \"number\",\n        \"std\": 2,\n        \"min\": 1,\n        \"max\": 24,\n        \"num_unique_values\": 15,\n        \"samples\": [\n          7,\n          14,\n          8\n        ],\n        \"semantic_type\": \"\",\n        \"description\": \"\"\n      }\n    },\n    {\n      \"column\": \"lat\",\n      \"properties\": {\n        \"dtype\": \"number\",\n        \"std\": 5.372399916530833,\n        \"min\": -30.17,\n        \"max\": 1.41,\n        \"num_unique_values\": 26,\n        \"samples\": [\n          -9.46,\n          -5.81,\n          -22.19\n        ],\n        \"semantic_type\": \"\",\n        \"description\": \"\"\n      }\n    },\n    {\n      \"column\": \"lon\",\n      \"properties\": {\n        \"dtype\": \"number\",\n        \"std\": 4.183180020544179,\n        \"min\": -70.55,\n        \"max\": -36.59,\n        \"num_unique_values\": 26,\n        \"samples\": [\n          -48.26,\n          -36.59,\n          -48.79\n        ],\n        \"semantic_type\": \"\",\n        \"description\": \"\"\n      }\n    }\n  ]\n}"
            }
          },
          "metadata": {},
          "execution_count": 1
        }
      ],
      "source": [
        "import pandas as pd\n",
        "\n",
        "url = \"https://raw.githubusercontent.com/alura-es-cursos/challenge1-data-science/refs/heads/main/base-de-dados-challenge-1/loja_1.csv\"\n",
        "url2 = \"https://raw.githubusercontent.com/alura-es-cursos/challenge1-data-science/refs/heads/main/base-de-dados-challenge-1/loja_2.csv\"\n",
        "url3 = \"https://raw.githubusercontent.com/alura-es-cursos/challenge1-data-science/refs/heads/main/base-de-dados-challenge-1/loja_3.csv\"\n",
        "url4 = \"https://raw.githubusercontent.com/alura-es-cursos/challenge1-data-science/refs/heads/main/base-de-dados-challenge-1/loja_4.csv\"\n",
        "\n",
        "loja = pd.read_csv(url)\n",
        "loja2 = pd.read_csv(url2)\n",
        "loja3 = pd.read_csv(url3)\n",
        "loja4 = pd.read_csv(url4)\n",
        "\n",
        "loja.head()"
      ]
    },
    {
      "cell_type": "markdown",
      "source": [
        "#1. Análise do faturamento\n"
      ],
      "metadata": {
        "id": "X62IW3KFUIYm"
      }
    },
    {
      "cell_type": "code",
      "source": [
        "\n",
        "FaturamentoLoja1 = loja['Preço'].sum()\n",
        "FaturamentoLoja2 = loja2['Preço'].sum()\n",
        "FaturamentoLoja3 = loja3['Preço'].sum()\n",
        "FaturamentoLoja4 = loja4['Preço'].sum()"
      ],
      "metadata": {
        "id": "xykobSftV64I"
      },
      "execution_count": 2,
      "outputs": []
    },
    {
      "cell_type": "code",
      "source": [
        "print(FaturamentoLoja1, FaturamentoLoja2, FaturamentoLoja3, FaturamentoLoja4)"
      ],
      "metadata": {
        "id": "KDyr8E71V3m-",
        "colab": {
          "base_uri": "https://localhost:8080/"
        },
        "outputId": "52a5c114-14bb-405d-feb0-b318dbef3e25"
      },
      "execution_count": 3,
      "outputs": [
        {
          "output_type": "stream",
          "name": "stdout",
          "text": [
            "1534509.12 1488459.06 1464025.03 1384497.58\n"
          ]
        }
      ]
    },
    {
      "cell_type": "markdown",
      "source": [
        "# 2. Vendas por Categoria\n"
      ],
      "metadata": {
        "id": "2V_vcAPzWZmR"
      }
    },
    {
      "cell_type": "code",
      "source": [
        "VendaPorCategoria1 = loja.groupby('Categoria do Produto').size()\n",
        "VendaPorCategoria2 = loja2.groupby('Categoria do Produto').size()\n",
        "VendaPorCategoria3 = loja3.groupby('Categoria do Produto').size()\n",
        "VendaPorCategoria4 = loja4.groupby('Categoria do Produto').size()"
      ],
      "metadata": {
        "id": "A34YupIuYhfF"
      },
      "execution_count": 4,
      "outputs": []
    },
    {
      "cell_type": "code",
      "source": [
        "print(VendaPorCategoria1, VendaPorCategoria2, VendaPorCategoria3, VendaPorCategoria4)"
      ],
      "metadata": {
        "id": "yZR6cOjXYSk1",
        "colab": {
          "base_uri": "https://localhost:8080/"
        },
        "outputId": "14b654bc-0840-41bb-ef04-a74b3e80e8ed"
      },
      "execution_count": 5,
      "outputs": [
        {
          "output_type": "stream",
          "name": "stdout",
          "text": [
            "Categoria do Produto\n",
            "brinquedos               324\n",
            "eletrodomesticos         312\n",
            "eletronicos              448\n",
            "esporte e lazer          284\n",
            "instrumentos musicais    182\n",
            "livros                   173\n",
            "moveis                   465\n",
            "utilidades domesticas    171\n",
            "dtype: int64 Categoria do Produto\n",
            "brinquedos               313\n",
            "eletrodomesticos         305\n",
            "eletronicos              422\n",
            "esporte e lazer          275\n",
            "instrumentos musicais    224\n",
            "livros                   197\n",
            "moveis                   442\n",
            "utilidades domesticas    181\n",
            "dtype: int64 Categoria do Produto\n",
            "brinquedos               315\n",
            "eletrodomesticos         278\n",
            "eletronicos              451\n",
            "esporte e lazer          277\n",
            "instrumentos musicais    177\n",
            "livros                   185\n",
            "moveis                   499\n",
            "utilidades domesticas    177\n",
            "dtype: int64 Categoria do Produto\n",
            "brinquedos               338\n",
            "eletrodomesticos         254\n",
            "eletronicos              451\n",
            "esporte e lazer          277\n",
            "instrumentos musicais    170\n",
            "livros                   187\n",
            "moveis                   480\n",
            "utilidades domesticas    201\n",
            "dtype: int64\n"
          ]
        }
      ]
    },
    {
      "cell_type": "markdown",
      "source": [
        "# 3. Média de Avaliação das Lojas"
      ],
      "metadata": {
        "id": "Rq6tU_xSY3jk"
      }
    },
    {
      "cell_type": "code",
      "source": [
        "AvaliacaoLoja1 = loja['Avaliação da compra'].mean()\n",
        "AvaliacaoLoja2 = loja2['Avaliação da compra'].mean()\n",
        "AvaliacaoLoja3 = loja3['Avaliação da compra'].mean()\n",
        "AvaliacaoLoja4 = loja4['Avaliação da compra'].mean()"
      ],
      "metadata": {
        "id": "bh3jjjJwY5MU"
      },
      "execution_count": 6,
      "outputs": []
    },
    {
      "cell_type": "code",
      "source": [
        "print(round(AvaliacaoLoja1, 1), round(AvaliacaoLoja2, 1), round(AvaliacaoLoja3,1), round(AvaliacaoLoja4,1))"
      ],
      "metadata": {
        "id": "I0KkjPoTY88F",
        "colab": {
          "base_uri": "https://localhost:8080/"
        },
        "outputId": "85deeeb1-4601-48da-d54c-79fe8dc2f3c4"
      },
      "execution_count": 7,
      "outputs": [
        {
          "output_type": "stream",
          "name": "stdout",
          "text": [
            "4.0 4.0 4.0 4.0\n"
          ]
        }
      ]
    },
    {
      "cell_type": "markdown",
      "source": [
        "# 4. Produtos Mais e Menos Vendidos"
      ],
      "metadata": {
        "id": "DmNp1KPBZCm-"
      }
    },
    {
      "cell_type": "code",
      "source": [
        "MaisVendidosLoja1 = loja.groupby('Produto').size().sort_values(ascending=False)\n",
        "MaisVendidosLoja2 = loja2.groupby('Produto').size().sort_values(ascending=False)\n",
        "MaisVendidosLoja3 = loja3.groupby('Produto').size().sort_values(ascending=False)\n",
        "MaisVendidosLoja4 = loja4.groupby('Produto').size().sort_values(ascending=False)"
      ],
      "metadata": {
        "id": "qoyjqijQZHfF"
      },
      "execution_count": 8,
      "outputs": []
    },
    {
      "cell_type": "code",
      "source": [
        "print(MaisVendidosLoja1, MaisVendidosLoja2, MaisVendidosLoja3, MaisVendidosLoja4)"
      ],
      "metadata": {
        "id": "0Sw3sd4IZIGW",
        "colab": {
          "base_uri": "https://localhost:8080/"
        },
        "outputId": "4fea2e63-fb52-436c-ee05-86c6bde7d28b"
      },
      "execution_count": 9,
      "outputs": [
        {
          "output_type": "stream",
          "name": "stdout",
          "text": [
            "Produto\n",
            "TV Led UHD 4K                  60\n",
            "Micro-ondas                    60\n",
            "Guarda roupas                  60\n",
            "Secadora de roupas             58\n",
            "Blocos de montar               56\n",
            "Cômoda                         56\n",
            "Bola de basquete               55\n",
            "Bicicleta                      54\n",
            "Copo térmico                   54\n",
            "Geladeira                      54\n",
            "Impressora                     54\n",
            "Bateria                        53\n",
            "Faqueiro                       52\n",
            "Carrinho controle remoto       52\n",
            "Modelagem preditiva            51\n",
            "Fone de ouvido                 50\n",
            "Celular Plus X42               49\n",
            "Xadrez de madeira              49\n",
            "Lava louças                    48\n",
            "Lavadora de roupas             47\n",
            "Guitarra                       47\n",
            "Cadeira de escritório          46\n",
            "Sofá retrátil                  46\n",
            "Violão                         46\n",
            "Fogão                          45\n",
            "Smart TV                       44\n",
            "Mesa de centro                 44\n",
            "Cama box                       44\n",
            "Cama king                      44\n",
            "Kit banquetas                  44\n",
            "Cubo mágico 8x8                44\n",
            "Jogo de tabuleiro              43\n",
            "Jogo de panelas                43\n",
            "Smartwatch                     43\n",
            "Dashboards com Power BI        42\n",
            "Tablet ABXY                    42\n",
            "Bola de vôlei                  42\n",
            "Iniciando em programação       41\n",
            "Jogo de copos                  41\n",
            "Poltrona                       41\n",
            "Assistente virtual             40\n",
            "Corda de pular                 40\n",
            "Boneca bebê                    40\n",
            "Mesa de jantar                 40\n",
            "Dinossauro Rex                 40\n",
            "Mochila                        39\n",
            "Ciência de dados com python    39\n",
            "Pandeiro                       36\n",
            "Panela de pressão              35\n",
            "Celular ABXY                   33\n",
            "Headset                        33\n",
            "dtype: int64 Produto\n",
            "Iniciando em programação       65\n",
            "Micro-ondas                    62\n",
            "Bateria                        61\n",
            "Violão                         58\n",
            "Pandeiro                       58\n",
            "Secadora de roupas             57\n",
            "Celular Plus X42               55\n",
            "Guarda roupas                  54\n",
            "Blocos de montar               54\n",
            "Jogo de panelas                52\n",
            "Corda de pular                 50\n",
            "Geladeira                      49\n",
            "Cadeira de escritório          49\n",
            "Lavadora de roupas             49\n",
            "Boneca bebê                    48\n",
            "Carrinho controle remoto       47\n",
            "Cama box                       47\n",
            "Guitarra                       47\n",
            "Copo térmico                   47\n",
            "Lava louças                    46\n",
            "Bola de vôlei                  46\n",
            "Jogo de copos                  46\n",
            "Modelagem preditiva            46\n",
            "Xadrez de madeira              45\n",
            "Kit banquetas                  45\n",
            "Cama king                      45\n",
            "Cubo mágico 8x8                45\n",
            "Bicicleta                      45\n",
            "Mesa de centro                 45\n",
            "TV Led UHD 4K                  45\n",
            "Mochila                        45\n",
            "Tablet ABXY                    44\n",
            "Cômoda                         44\n",
            "Panela de pressão              44\n",
            "Smartwatch                     44\n",
            "Headset                        44\n",
            "Sofá retrátil                  44\n",
            "Dashboards com Power BI        43\n",
            "Ciência de dados com python    43\n",
            "Fogão                          42\n",
            "Dinossauro Rex                 42\n",
            "Bola de basquete               42\n",
            "Celular ABXY                   41\n",
            "Smart TV                       40\n",
            "Faqueiro                       39\n",
            "Assistente virtual             38\n",
            "Fone de ouvido                 37\n",
            "Poltrona                       35\n",
            "Impressora                     34\n",
            "Mesa de jantar                 34\n",
            "Jogo de tabuleiro              32\n",
            "dtype: int64 Produto\n",
            "Kit banquetas                  57\n",
            "Mesa de jantar                 56\n",
            "Cama king                      56\n",
            "Cômoda                         55\n",
            "Jogo de panelas                55\n",
            "Smart TV                       54\n",
            "Fogão                          53\n",
            "Modelagem preditiva            53\n",
            "Corda de pular                 53\n",
            "Bicicleta                      52\n",
            "Carrinho controle remoto       52\n",
            "Jogo de tabuleiro              52\n",
            "Lava louças                    52\n",
            "Pandeiro                       51\n",
            "Bola de basquete               50\n",
            "Geladeira                      50\n",
            "Impressora                     50\n",
            "Guarda roupas                  49\n",
            "Bola de vôlei                  48\n",
            "Tablet ABXY                    48\n",
            "Panela de pressão              47\n",
            "Violão                         47\n",
            "Poltrona                       47\n",
            "Xadrez de madeira              47\n",
            "Smartwatch                     46\n",
            "Iniciando em programação       46\n",
            "Dinossauro Rex                 46\n",
            "Cadeira de escritório          46\n",
            "Cama box                       46\n",
            "Ciência de dados com python    46\n",
            "Celular Plus X42               46\n",
            "Sofá retrátil                  45\n",
            "Secadora de roupas             45\n",
            "Celular ABXY                   44\n",
            "Cubo mágico 8x8                44\n",
            "Fone de ouvido                 43\n",
            "TV Led UHD 4K                  42\n",
            "Mesa de centro                 42\n",
            "Lavadora de roupas             42\n",
            "Bateria                        41\n",
            "Dashboards com Power BI        40\n",
            "Boneca bebê                    39\n",
            "Assistente virtual             39\n",
            "Headset                        39\n",
            "Faqueiro                       39\n",
            "Guitarra                       38\n",
            "Copo térmico                   38\n",
            "Micro-ondas                    36\n",
            "Jogo de copos                  36\n",
            "Mochila                        36\n",
            "Blocos de montar               35\n",
            "dtype: int64 Produto\n",
            "Cama box                       62\n",
            "Faqueiro                       59\n",
            "Cama king                      56\n",
            "Dashboards com Power BI        56\n",
            "Cômoda                         55\n",
            "Mesa de jantar                 55\n",
            "Carrinho controle remoto       55\n",
            "Blocos de montar               54\n",
            "Smart TV                       54\n",
            "Pandeiro                       52\n",
            "Assistente virtual             50\n",
            "Bola de basquete               50\n",
            "Jogo de panelas                50\n",
            "Impressora                     50\n",
            "Modelagem preditiva            50\n",
            "Copo térmico                   48\n",
            "Bateria                        48\n",
            "Celular Plus X42               48\n",
            "Bola de vôlei                  48\n",
            "Micro-ondas                    48\n",
            "Jogo de tabuleiro              48\n",
            "Boneca bebê                    48\n",
            "Fogão                          47\n",
            "Sofá retrátil                  47\n",
            "Cubo mágico 8x8                47\n",
            "Dinossauro Rex                 47\n",
            "Jogo de copos                  46\n",
            "Panela de pressão              46\n",
            "Bicicleta                      45\n",
            "Poltrona                       45\n",
            "Tablet ABXY                    45\n",
            "Fone de ouvido                 44\n",
            "Mesa de centro                 44\n",
            "Mochila                        43\n",
            "Corda de pular                 43\n",
            "Lava louças                    43\n",
            "Iniciando em programação       43\n",
            "Headset                        42\n",
            "Kit banquetas                  42\n",
            "TV Led UHD 4K                  40\n",
            "Secadora de roupas             40\n",
            "Cadeira de escritório          40\n",
            "Celular ABXY                   39\n",
            "Xadrez de madeira              39\n",
            "Smartwatch                     39\n",
            "Ciência de dados com python    38\n",
            "Geladeira                      38\n",
            "Lavadora de roupas             38\n",
            "Violão                         37\n",
            "Guarda roupas                  34\n",
            "Guitarra                       33\n",
            "dtype: int64\n"
          ]
        }
      ]
    },
    {
      "cell_type": "markdown",
      "source": [
        "# 5. Frete Médio por Loja\n"
      ],
      "metadata": {
        "id": "Fl0cGi3bZKqU"
      }
    },
    {
      "cell_type": "code",
      "source": [
        "MediaFreteLoja1 = loja['Frete'].mean()\n",
        "MediaFreteLoja2 = loja2['Frete'].mean()\n",
        "MediaFreteLoja3 = loja3['Frete'].mean()\n",
        "MediaFreteLoja4 = loja4['Frete'].mean()"
      ],
      "metadata": {
        "id": "S2JeaCykZNy9"
      },
      "execution_count": 10,
      "outputs": []
    },
    {
      "cell_type": "code",
      "source": [
        "print(round(MediaFreteLoja1, 1), round(MediaFreteLoja2, 1), round(MediaFreteLoja3,1), round(MediaFreteLoja4,1))"
      ],
      "metadata": {
        "id": "0tSdCie9ZQlt",
        "colab": {
          "base_uri": "https://localhost:8080/"
        },
        "outputId": "4fd1b06f-8097-4a89-babc-514fc48dec99"
      },
      "execution_count": 11,
      "outputs": [
        {
          "output_type": "stream",
          "name": "stdout",
          "text": [
            "34.7 33.6 33.1 31.3\n"
          ]
        }
      ]
    },
    {
      "cell_type": "code",
      "source": [
        "import matplotlib.pyplot as plt\n",
        "\n",
        "faturamentos = [FaturamentoLoja1, FaturamentoLoja2, FaturamentoLoja3, FaturamentoLoja4]\n",
        "\n",
        "labels = ['Loja 1', 'Loja 2', 'Loja 3', 'Loja 4']\n",
        "\n",
        "colors = ['gold', 'lightcoral', 'lightskyblue', 'yellowgreen']\n",
        "\n",
        "plt.figure(figsize=(8, 8))\n",
        "plt.pie(faturamentos, labels=labels, colors=colors, autopct='%1.1f%%', startangle=140)\n",
        "\n",
        "plt.axis('equal')\n",
        "\n",
        "plt.title('Faturamento por Loja')\n",
        "\n",
        "plt.show()"
      ],
      "metadata": {
        "colab": {
          "base_uri": "https://localhost:8080/",
          "height": 679
        },
        "id": "rvFlvSKdCH_A",
        "outputId": "2ccaac67-85a7-4718-bd1e-00c8baa0e19b"
      },
      "execution_count": 12,
      "outputs": [
        {
          "output_type": "display_data",
          "data": {
            "text/plain": [
              "<Figure size 800x800 with 1 Axes>"
            ],
            "image/png": "[encoded data removed]"
          },
          "metadata": {}
        }
      ]
    },
    {
      "cell_type": "code",
      "source": [
        "import matplotlib.pyplot as plt\n",
        "import numpy as np\n",
        "\n",
        "categorias = list(set(VendaPorCategoria1.index) | set(VendaPorCategoria2.index) | set(VendaPorCategoria3.index) | set(VendaPorCategoria4.index))\n",
        "\n",
        "categorias.sort()\n",
        "\n",
        "valores_loja1 = [VendaPorCategoria1.get(cat, 0) for cat in categorias]\n",
        "valores_loja2 = [VendaPorCategoria2.get(cat, 0) for cat in categorias]\n",
        "valores_loja3 = [VendaPorCategoria3.get(cat, 0) for cat in categorias]\n",
        "valores_loja4 = [VendaPorCategoria4.get(cat, 0) for cat in categorias]\n",
        "\n",
        "x = np.arange(len(categorias))\n",
        "largura = 0.2\n",
        "\n",
        "plt.figure(figsize=(12, 6))\n",
        "plt.bar(x - 1.5*largura, valores_loja1, width=largura, label='Loja 1')\n",
        "plt.bar(x - 0.5*largura, valores_loja2, width=largura, label='Loja 2')\n",
        "plt.bar(x + 0.5*largura, valores_loja3, width=largura, label='Loja 3')\n",
        "plt.bar(x + 1.5*largura, valores_loja4, width=largura, label='Loja 4')\n",
        "\n",
        "plt.xlabel('Categoria do Produto')\n",
        "plt.ylabel('Quantidade de Vendas')\n",
        "plt.title('Quantidade de Vendas por Categoria - Comparativo entre Lojas')\n",
        "plt.xticks(x, categorias, rotation=45, ha='right')  # Rotacionar labels se forem longas\n",
        "plt.legend()\n",
        "plt.tight_layout()\n",
        "\n",
        "plt.show()\n"
      ],
      "metadata": {
        "colab": {
          "base_uri": "https://localhost:8080/",
          "height": 607
        },
        "id": "2vhjAQcQCbuo",
        "outputId": "9e43eed7-b3a5-4070-9146-81d62ba746d0"
      },
      "execution_count": 13,
      "outputs": [
        {
          "output_type": "display_data",
          "data": {
            "text/plain": [
              "<Figure size 1200x600 with 1 Axes>"
            ],
            "image/png": "[encoded data removed]"
          },
          "metadata": {}
        }
      ]
    },
    {
      "cell_type": "code",
      "source": [
        "import matplotlib.pyplot as plt\n",
        "\n",
        "medias_frete = [MediaFreteLoja1, MediaFreteLoja2, MediaFreteLoja3, MediaFreteLoja4]\n",
        "lojas = ['Loja 1', 'Loja 2', 'Loja 3', 'Loja 4']\n",
        "\n",
        "plt.figure(figsize=(8, 5))\n",
        "plt.scatter(lojas, medias_frete, color='purple', s=100)\n",
        "\n",
        "plt.plot(lojas, medias_frete, color='gray', linestyle='--', alpha=0.6)\n",
        "\n",
        "plt.title('Média do Frete por Loja')\n",
        "plt.xlabel('Lojas')\n",
        "plt.ylabel('Valor Médio do Frete')\n",
        "plt.grid(axis='y', linestyle='--', alpha=0.7)\n",
        "\n",
        "plt.show()\n"
      ],
      "metadata": {
        "colab": {
          "base_uri": "https://localhost:8080/",
          "height": 488
        },
        "id": "smUe2CljDA_U",
        "outputId": "eff4a3ff-f5d3-4a35-ffd2-5eb536d56890"
      },
      "execution_count": 14,
      "outputs": [
        {
          "output_type": "display_data",
          "data": {
            "text/plain": [
              "<Figure size 800x500 with 1 Axes>"
            ],
            "image/png": "[encoded data removed]"
          },
          "metadata": {}
        }
      ]
    },
    {
      "cell_type": "markdown",
      "source": [
        "# Resolução\n",
        "\n",
        "Em um comparativo entre os três gráficos acima, vemos que:\n",
        "\n",
        "* O gráfico \"Previsão de Faturamento\" indica que, em ordem de grandeza das lojas mais performáticas para as lojas menos performáticas, temos: Loja 1, Loja 2, Loja 3 e Loja 4, respectivamente;\n",
        "\n",
        "* A informação acima, condiz com o fráfico \"Média de Frete Por Loja\" ao qual indica que a loja 4 possui a menor taxa de frete dentre as 4 lojas;\n",
        "\n",
        "* Apesar de, no gráfico \"Quantidade de Vendas por Categoria\", a loja 4 se assemelhar em volume de vendas as demais lojas.\n",
        "\n",
        "Conclusão: A loja 4 possui um índice de vendas em valor abaixo das outras, mesmo que se assemelhe em volume, sendo a decisão coerente para uma venda.\n"
      ],
      "metadata": {
        "id": "gPBdsusc6sio"
      }
    }
  ]
}